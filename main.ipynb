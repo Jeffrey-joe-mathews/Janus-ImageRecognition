{
 "cells": [
  {
   "attachments": {},
   "cell_type": "markdown",
   "id": "c4c1b153-c27e-4cbe-9391-a1d1fbbfc92b",
   "metadata": {},
   "source": [
    "## Loading data and setting up tensorflow"
   ]
  },
  {
   "cell_type": "code",
   "execution_count": null,
   "id": "acdaa633-87b3-43b3-8f1d-1c46b0d9bd02",
   "metadata": {},
   "outputs": [],
   "source": [
    "!pip install tensorflow opencv-python matplotlib\n",
    "# !pip install tensorflow-gpu"
   ]
  },
  {
   "cell_type": "code",
   "execution_count": null,
   "id": "2ef55af4-7404-4d4d-bf54-e43d6e8203a1",
   "metadata": {},
   "outputs": [],
   "source": []
  }
 ],
 "metadata": {
  "kernelspec": {
   "display_name": "Janus-ImageSorter",
   "language": "python",
   "name": "janus-imagesorter"
  },
  "language_info": {
   "codemirror_mode": {
    "name": "ipython",
    "version": 3
   },
   "file_extension": ".py",
   "mimetype": "text/x-python",
   "name": "python",
   "nbconvert_exporter": "python",
   "pygments_lexer": "ipython3",
   "version": "3.12.7"
  }
 },
 "nbformat": 4,
 "nbformat_minor": 5
}
