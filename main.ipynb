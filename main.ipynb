{
 "cells": [
  {
   "cell_type": "code",
   "execution_count": null,
   "id": "0fa2cf5b-b366-45c9-b587-8e1f6e7af95e",
   "metadata": {},
   "outputs": [],
   "source": [
    "# install dependencies : \n",
    "\n",
    "!pip install tensorflow opencv-python matplotlib"
   ]
  },
  {
   "cell_type": "code",
   "execution_count": null,
   "id": "2f61982e-aa9a-473a-bce9-3f3c6002e668",
   "metadata": {},
   "outputs": [],
   "source": [
    "# check if the dependencies have been installed\n",
    "\n",
    "!pip list"
   ]
  },
  {
   "cell_type": "markdown",
   "id": "c16842d9-829b-46b7-b8d6-0ece43610319",
   "metadata": {},
   "source": [
    "# for listing directories\n",
    "# os.listdir('data')\n",
    "\n",
    "# i aint writing any code for GPU cause i dont have any which is usable"
   ]
  },
  {
   "cell_type": "markdown",
   "id": "4bbc12cd-9259-4385-b473-b3b081aca2c6",
   "metadata": {},
   "source": [
    "# remove corrupted images : "
   ]
  },
  {
   "cell_type": "code",
   "execution_count": 25,
   "id": "1226249f-a591-43ec-8ffc-b7301026d14f",
   "metadata": {},
   "outputs": [],
   "source": [
    "import cv2\n",
    "import imghdr"
   ]
  },
  {
   "cell_type": "code",
   "execution_count": 26,
   "id": "4b12b766-4d32-436f-96b7-ce04f9511c80",
   "metadata": {},
   "outputs": [],
   "source": [
    "data_dir = 'data'"
   ]
  },
  {
   "cell_type": "code",
   "execution_count": 27,
   "id": "8356710d-b756-466c-94c8-1ab5609ba30b",
   "metadata": {},
   "outputs": [],
   "source": [
    "# image extensions to be used :\n",
    "image_ext = ['jpeg', 'jpg', 'png', 'bnp']"
   ]
  },
  {
   "cell_type": "code",
   "execution_count": 30,
   "id": "fee711e1-5eea-4503-be21-c980d0b3e817",
   "metadata": {},
   "outputs": [
    {
     "name": "stdout",
     "output_type": "stream",
     "text": [
      "sad\n",
      "happy\n"
     ]
    }
   ],
   "source": [
    "for imageFolder in os.listdir(data_dir) :\n",
    "    for image in os.listdir(os.path.join(data_dir, imageFolder)) :\n",
    "        print(f\"{image} : {imageFolder}\")"
   ]
  },
  {
   "cell_type": "code",
   "execution_count": null,
   "id": "6a565ce0-e502-4640-be74-7fe73a9bc44c",
   "metadata": {},
   "outputs": [],
   "source": []
  }
 ],
 "metadata": {
  "kernelspec": {
   "display_name": "Janus-ImageSorter",
   "language": "python",
   "name": "janus-imagesorter"
  },
  "language_info": {
   "codemirror_mode": {
    "name": "ipython",
    "version": 3
   },
   "file_extension": ".py",
   "mimetype": "text/x-python",
   "name": "python",
   "nbconvert_exporter": "python",
   "pygments_lexer": "ipython3",
   "version": "3.12.7"
  }
 },
 "nbformat": 4,
 "nbformat_minor": 5
}
