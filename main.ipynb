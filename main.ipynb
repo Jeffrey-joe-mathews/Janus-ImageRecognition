{
 "cells": [
  {
   "cell_type": "code",
   "execution_count": null,
   "id": "0fa2cf5b-b366-45c9-b587-8e1f6e7af95e",
   "metadata": {},
   "outputs": [],
   "source": [
    "# install dependencies : \n",
    "\n",
    "!pip install tensorflow opencv-python matplotlib"
   ]
  },
  {
   "cell_type": "code",
   "execution_count": null,
   "id": "2f61982e-aa9a-473a-bce9-3f3c6002e668",
   "metadata": {},
   "outputs": [],
   "source": [
    "# check if the dependencies have been installed\n",
    "\n",
    "!pip list"
   ]
  },
  {
   "cell_type": "markdown",
   "id": "c16842d9-829b-46b7-b8d6-0ece43610319",
   "metadata": {},
   "source": [
    "# Extra - for listing directories\n",
    "###     >>> os.listdir('data')\n",
    "\n",
    "###     >>> i aint writing any code for GPU cause i dont have any which is usable"
   ]
  },
  {
   "cell_type": "markdown",
   "id": "4bbc12cd-9259-4385-b473-b3b081aca2c6",
   "metadata": {},
   "source": [
    "# 1.1 remove corrupted images : "
   ]
  },
  {
   "cell_type": "code",
   "execution_count": null,
   "id": "1226249f-a591-43ec-8ffc-b7301026d14f",
   "metadata": {},
   "outputs": [],
   "source": [
    "import cv2\n",
    "import imghdr\n",
    "import os\n",
    "from matplotlib import pyplot as plt\n",
    "import tensorflow as tf\n",
    "import numpy as np"
   ]
  },
  {
   "cell_type": "code",
   "execution_count": null,
   "id": "4b12b766-4d32-436f-96b7-ce04f9511c80",
   "metadata": {},
   "outputs": [],
   "source": [
    "data_dir = 'data'"
   ]
  },
  {
   "cell_type": "code",
   "execution_count": null,
   "id": "8356710d-b756-466c-94c8-1ab5609ba30b",
   "metadata": {},
   "outputs": [],
   "source": [
    "# image extensions to be used :\n",
    "image_ext = ['jpeg', 'jpg', 'png', 'bnp']"
   ]
  },
  {
   "cell_type": "markdown",
   "id": "fd484af8-aa98-40ea-831d-b688f296788d",
   "metadata": {},
   "source": [
    "# Extra - cv2 returns a numpy array 3dim if colored and 2dim if BW\n",
    "### also matplotlib to display image for analysis"
   ]
  },
  {
   "cell_type": "code",
   "execution_count": null,
   "id": "d8366650-c094-4c6d-a467-246acc67b3b7",
   "metadata": {},
   "outputs": [],
   "source": [
    "img = cv2.imread(os.path.join(data_dir, \"happy\", \"image32.jpeg\"))\n",
    "print(img.shape)\n",
    "print(img. ndim)\n",
    "print(img)"
   ]
  },
  {
   "cell_type": "code",
   "execution_count": null,
   "id": "ccf02834-9bfc-420d-96e3-1e1aa37e6cdd",
   "metadata": {},
   "outputs": [],
   "source": [
    "plt.imshow(img)"
   ]
  },
  {
   "cell_type": "markdown",
   "id": "d00fcfda-1662-42e8-87f3-6e610d2f65e9",
   "metadata": {},
   "source": [
    "# 1.2 filtering out images"
   ]
  },
  {
   "cell_type": "code",
   "execution_count": null,
   "id": "fee711e1-5eea-4503-be21-c980d0b3e817",
   "metadata": {},
   "outputs": [],
   "source": [
    "for imageFolder in os.listdir(data_dir) :\n",
    "    for image in os.listdir(os.path.join(data_dir, imageFolder)) :\n",
    "        newPath = os.path.join(data_dir, imageFolder, image)\n",
    "        try :\n",
    "            img = cv2.imread(newPath)\n",
    "            tip = imghdr.what(newPath)\n",
    "            if tip not in image_ext:\n",
    "                print(f\"this image in the dataset ain't valid {newPath}\")\n",
    "                os.remove(newPath)\n",
    "        \n",
    "        except Exception as e : \n",
    "            print(\"issue with image {}\".format(image_path))"
   ]
  },
  {
   "cell_type": "markdown",
   "id": "859debe7-cd2e-4243-b4e2-bffecafbc0de",
   "metadata": {},
   "source": [
    "# 1.3 Loading the dataset"
   ]
  },
  {
   "cell_type": "code",
   "execution_count": null,
   "id": "9dfb350c-5f40-4dfb-9b2c-eb90b8f6c348",
   "metadata": {},
   "outputs": [],
   "source": [
    "tf.data.Dataset??"
   ]
  },
  {
   "cell_type": "code",
   "execution_count": null,
   "id": "45693247-057e-48dc-a81f-571130baf40d",
   "metadata": {},
   "outputs": [],
   "source": [
    "dataset = tf.keras.utils.image_dataset_from_directory('data')\n",
    "dataset"
   ]
  },
  {
   "cell_type": "markdown",
   "id": "4cf148b2-de02-4f95-b7bb-90781d4ec8ea",
   "metadata": {},
   "source": [
    "#### convert to numpy iterator for accessing data that has been generated"
   ]
  },
  {
   "cell_type": "code",
   "execution_count": null,
   "id": "07e84b6e-c443-4e51-b7d4-99fdf568bd19",
   "metadata": {},
   "outputs": [],
   "source": [
    "data_iterator = dataset.as_numpy_iterator()\n",
    "data_iterator"
   ]
  },
  {
   "cell_type": "code",
   "execution_count": null,
   "id": "d0ef2933-77ff-4fd7-864c-0322bbcc02e7",
   "metadata": {},
   "outputs": [],
   "source": [
    "# images represented as numpy arrays (takes a batch of images after processing)\n",
    "batch = data_iterator.next()\n",
    "print(batch[0].shape)\n",
    "batch[1]"
   ]
  },
  {
   "cell_type": "markdown",
   "id": "8e68b6db-de80-43ea-b548-996f1f030e63",
   "metadata": {},
   "source": [
    "### 0 ===> HAPPY (^u^)\n",
    "### 1 ===> SAD (xnx)"
   ]
  },
  {
   "cell_type": "code",
   "execution_count": null,
   "id": "893a2bb8-e69d-4ea0-a9e1-05c7f82527aa",
   "metadata": {},
   "outputs": [],
   "source": [
    "fig, ax = plt.subplots(ncols=4, figsize=(20, 20))\n",
    "for idx, img in enumerate(batch[0][:4]):\n",
    "    ax[idx].imshow(img.astype()\n",
    "    ax[idx].title.set_text(batch[1][idx])"
   ]
  },
  {
   "cell_type": "markdown",
   "id": "bf0deab3-cd4f-4b4d-8a05-e6f76868893a",
   "metadata": {},
   "source": [
    "# 2 PreProcess the data"
   ]
  },
  {
   "cell_type": "code",
   "execution_count": null,
   "id": "39b2a986-7e93-4057-8ca2-9baf30acad4d",
   "metadata": {},
   "outputs": [],
   "source": [
    "data = data.map(lambda x, y: (x/255, y))\n",
    "scaled_iterator = data.as_numpy_iterator().next()\n",
    "scaled_iterator[0].max()"
   ]
  },
  {
   "cell_type": "code",
   "execution_count": null,
   "id": "84012069-501b-40c6-aafc-53e3f0509189",
   "metadata": {},
   "outputs": [],
   "source": [
    "fig, ax = plt.subplots(ncols=4, figsize=(20, 20))\n",
    "for idx, img in enumerate(batch[0][:4]):\n",
    "    ax[idx].imshow(img)\n",
    "    ax[idx].title.set_text(batch[1][idx])"
   ]
  },
  {
   "cell_type": "code",
   "execution_count": null,
   "id": "5736ddf2-6ba6-4ada-ba45-384736c4849d",
   "metadata": {},
   "outputs": [],
   "source": []
  }
 ],
 "metadata": {
  "kernelspec": {
   "display_name": "Janus-ImageSorter",
   "language": "python",
   "name": "janus-imagesorter"
  },
  "language_info": {
   "codemirror_mode": {
    "name": "ipython",
    "version": 3
   },
   "file_extension": ".py",
   "mimetype": "text/x-python",
   "name": "python",
   "nbconvert_exporter": "python",
   "pygments_lexer": "ipython3",
   "version": "3.12.7"
  }
 },
 "nbformat": 4,
 "nbformat_minor": 5
}
